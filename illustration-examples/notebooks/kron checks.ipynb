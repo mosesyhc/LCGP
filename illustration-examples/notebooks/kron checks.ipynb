{
 "cells": [
  {
   "cell_type": "code",
   "execution_count": 21,
   "id": "9f3c9c44",
   "metadata": {},
   "outputs": [],
   "source": [
    "import numpy as np\n",
    "np.set_printoptions(precision=3)\n",
    "\n",
    "n = 2\n",
    "p = 5\n",
    "kap = 3\n",
    "\n",
    "A = np.random.randn(p, p)\n",
    "A = A.T @ A\n"
   ]
  },
  {
   "cell_type": "code",
   "execution_count": 22,
   "id": "00c65095",
   "metadata": {},
   "outputs": [],
   "source": [
    "np.linalg.eig(A)\n",
    "\n",
    "U, S, V = np.linalg.svd(A, full_matrices=False)\n",
    "Phi = U[:, :kap]\n"
   ]
  },
  {
   "cell_type": "code",
   "execution_count": 23,
   "id": "7fdc6b97",
   "metadata": {},
   "outputs": [
    {
     "data": {
      "text/plain": [
       "array([[-0.641,  0.415, -0.318],\n",
       "       [ 0.343, -1.066, -0.574],\n",
       "       [-0.298, -0.029, -3.467],\n",
       "       [ 0.588,  1.361, -1.328],\n",
       "       [-0.194,  0.916,  1.337]])"
      ]
     },
     "execution_count": 23,
     "metadata": {},
     "output_type": "execute_result"
    }
   ],
   "source": [
    "D = np.diag((1, 2, 4))\n",
    "\n",
    "PhiD = Phi @ D\n",
    "\n",
    "PhiD"
   ]
  },
  {
   "cell_type": "code",
   "execution_count": 26,
   "id": "84c0be37",
   "metadata": {},
   "outputs": [
    {
     "data": {
      "text/plain": [
       "array([[ 1.000e+00,  0.000e+00, -4.408e-16,  0.000e+00,  1.664e-16,\n",
       "         0.000e+00],\n",
       "       [ 0.000e+00,  1.000e+00,  0.000e+00, -4.408e-16,  0.000e+00,\n",
       "         1.664e-16],\n",
       "       [-4.408e-16,  0.000e+00,  4.000e+00,  0.000e+00,  2.100e-15,\n",
       "         0.000e+00],\n",
       "       [ 0.000e+00, -4.408e-16,  0.000e+00,  4.000e+00,  0.000e+00,\n",
       "         2.100e-15],\n",
       "       [ 1.664e-16,  0.000e+00,  2.100e-15,  0.000e+00,  1.600e+01,\n",
       "         0.000e+00],\n",
       "       [ 0.000e+00,  1.664e-16,  0.000e+00,  2.100e-15,  0.000e+00,\n",
       "         1.600e+01]])"
      ]
     },
     "execution_count": 26,
     "metadata": {},
     "output_type": "execute_result"
    }
   ],
   "source": [
    "np.kron(PhiD.T, np.eye(n)) @ np.kron(PhiD, np.eye(n))"
   ]
  }
 ],
 "metadata": {
  "kernelspec": {
   "display_name": "gpviip",
   "language": "python",
   "name": "gpviip"
  },
  "language_info": {
   "codemirror_mode": {
    "name": "ipython",
    "version": 3
   },
   "file_extension": ".py",
   "mimetype": "text/x-python",
   "name": "python",
   "nbconvert_exporter": "python",
   "pygments_lexer": "ipython3",
   "version": "3.9.12"
  }
 },
 "nbformat": 4,
 "nbformat_minor": 5
}
